{
  "nbformat": 4,
  "nbformat_minor": 0,
  "metadata": {
    "colab": {
      "name": "Problem 2 HW1 AI",
      "provenance": [],
      "collapsed_sections": [],
      "include_colab_link": true
    },
    "kernelspec": {
      "name": "python3",
      "display_name": "Python 3"
    }
  },
  "cells": [
    {
      "cell_type": "markdown",
      "metadata": {
        "id": "view-in-github",
        "colab_type": "text"
      },
      "source": [
        "<a href=\"https://colab.research.google.com/github/fjoseph631/Machine-Learning/blob/master/Problem_2_HW1_AI.ipynb\" target=\"_parent\"><img src=\"https://colab.research.google.com/assets/colab-badge.svg\" alt=\"Open In Colab\"/></a>"
      ]
    },
    {
      "cell_type": "markdown",
      "metadata": {
        "id": "TzAxeyPZT99w",
        "colab_type": "text"
      },
      "source": [
        "#Initialzations"
      ]
    },
    {
      "cell_type": "code",
      "metadata": {
        "id": "ncLnRIvzMKhT",
        "colab_type": "code",
        "colab": {}
      },
      "source": [
        "\n",
        "import matplotlib as mpl\n",
        "import matplotlib.pyplot as plt\n",
        "mpl.rc('axes', labelsize=14)\n",
        "mpl.rc('xtick', labelsize=12)\n",
        "mpl.rc('ytick', labelsize=12)\n",
        "import numpy as np\n",
        "np.random.seed(25)\n",
        "\n",
        "x1s = 2 * np.random.rand(100, 1)\n",
        "x2s = 5 * np.random.rand(100, 1)\n",
        "ys = 4 + (3 * x1s + np.random.rand(100, 1) + 2 * x2s + np.random.rand(100,1))"
      ],
      "execution_count": 0,
      "outputs": []
    },
    {
      "cell_type": "markdown",
      "metadata": {
        "id": "t8tWoKk-ULDL",
        "colab_type": "text"
      },
      "source": [
        "#Split Data Into Sets"
      ]
    },
    {
      "cell_type": "code",
      "metadata": {
        "id": "3H0YscMrMf3E",
        "colab_type": "code",
        "colab": {}
      },
      "source": [
        "# split the data into training and test sets\n",
        "# train set\n",
        "train_x1s = x1s[:80]\n",
        "train_x2s = x2s[:80]\n",
        "train_ys = ys[:80]\n",
        "# test set\n",
        "test_x1s = x1s[80:]\n",
        "test_x2s = x2s[80:]\n",
        "test_ys = ys[80:]"
      ],
      "execution_count": 0,
      "outputs": []
    },
    {
      "cell_type": "markdown",
      "metadata": {
        "id": "mmTtRwC1URAr",
        "colab_type": "text"
      },
      "source": [
        "#Performing SGD On training Set"
      ]
    },
    {
      "cell_type": "code",
      "metadata": {
        "colab_type": "code",
        "outputId": "a1babd7f-7709-471f-8890-7822c5e5d9f1",
        "id": "L_3jOpE6Rkg1",
        "colab": {
          "base_uri": "https://localhost:8080/",
          "height": 34
        }
      },
      "source": [
        "# number of epochs\n",
        "epochs = 10\n",
        "# learning rate\n",
        "lr = 0.01\n",
        "# initial value for weight w and bias b\n",
        "w1 = np.random.randn(1)\n",
        "w2 = np.random.randn(1)\n",
        "b = np.zeros(1)\n",
        "for epoch in np.arange(epochs):\n",
        "  for i in np.arange(80):\n",
        "    y_pred = w1 * train_x1s[i] + w2 * train_x2s[i]+  b\n",
        "    \n",
        "    grad_w1 = (y_pred - train_ys[i]) * train_x1s[i]\n",
        "    grad_w2 = (y_pred - train_ys[i]) * train_x2s[i]\n",
        "\n",
        "    grad_b = (y_pred - train_ys[i])\n",
        "    \n",
        "    w1 -= lr * grad_w1\n",
        "    w2 -=lr * grad_w2\n",
        "    b -= lr * grad_b\n",
        "test_loss = 0\n",
        "for i in np.arange(20):\n",
        "  test_loss += 0.5 * (w1 * test_x1s[i] + b - test_ys[i] + w2 * test_x2s[i]) ** 2\n",
        "test_loss /= 20\n",
        "test_loss\n",
        "\n"
      ],
      "execution_count": 4,
      "outputs": [
        {
          "output_type": "execute_result",
          "data": {
            "text/plain": [
              "array([0.14517422])"
            ]
          },
          "metadata": {
            "tags": []
          },
          "execution_count": 4
        }
      ]
    },
    {
      "cell_type": "markdown",
      "metadata": {
        "id": "AqdoTrYGUYQs",
        "colab_type": "text"
      },
      "source": [
        "# Displaying Results"
      ]
    },
    {
      "cell_type": "code",
      "metadata": {
        "id": "Hm02ks8iZ5i7",
        "colab_type": "code",
        "outputId": "afe9bf28-9dbe-44c7-ce21-747144e90965",
        "colab": {
          "base_uri": "https://localhost:8080/",
          "height": 294
        }
      },
      "source": [
        "pred_ys = w1 * test_x1s + w2 * test_x2s+ b \n",
        "\n",
        "plt.plot(test_x1s+test_x2s, test_ys, \"b.\")\n",
        "plt.plot(test_x1s+test_x2s, pred_ys, \"r.\") # predicted values\n",
        "plt.xlabel(\"$x_1$\", fontsize=18)\n",
        "plt.ylabel(\"$y$\", rotation=0, fontsize=18)\n",
        "plt.axis([0, 2, 0, 15])\n",
        "plt.show()\n",
        "\n"
      ],
      "execution_count": 5,
      "outputs": [
        {
          "output_type": "display_data",
          "data": {
            "image/png": "[encoded data removed]",
            "text/plain": [
              "<Figure size 432x288 with 1 Axes>"
            ]
          },
          "metadata": {
            "tags": []
          }
        }
      ]
    },
    {
      "cell_type": "markdown",
      "metadata": {
        "id": "fw25lBVNUjoM",
        "colab_type": "text"
      },
      "source": [
        "#Displaying Final Weights"
      ]
    },
    {
      "cell_type": "code",
      "metadata": {
        "id": "6yvLZpjpa6yS",
        "colab_type": "code",
        "outputId": "c2faf861-1e2b-4f56-e3d5-e50f963991f1",
        "colab": {
          "base_uri": "https://localhost:8080/",
          "height": 69
        }
      },
      "source": [
        "print(w1)\n",
        "print(w2)\n",
        "print(b)"
      ],
      "execution_count": 6,
      "outputs": [
        {
          "output_type": "stream",
          "text": [
            "[3.55346067]\n",
            "[2.08713096]\n",
            "[4.06913349]\n"
          ],
          "name": "stdout"
        }
      ]
    }
  ]
}
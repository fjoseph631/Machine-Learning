{
  "nbformat": 4,
  "nbformat_minor": 0,
  "metadata": {
    "colab": {
      "name": "Problem 3 HW2AI",
      "provenance": [],
      "collapsed_sections": [
        "IPcMKR744VQ2",
        "N_WOUJu14tq1"
      ],
      "include_colab_link": true
    },
    "kernelspec": {
      "name": "python3",
      "display_name": "Python 3"
    }
  },
  "cells": [
    {
      "cell_type": "markdown",
      "metadata": {
        "id": "view-in-github",
        "colab_type": "text"
      },
      "source": [
        "<a href=\"https://colab.research.google.com/github/fjoseph631/Machine-Learning/blob/master/Problem_3_HW2AI.ipynb\" target=\"_parent\"><img src=\"https://colab.research.google.com/assets/colab-badge.svg\" alt=\"Open In Colab\"/></a>"
      ]
    },
    {
      "cell_type": "markdown",
      "metadata": {
        "id": "l34GNy7tyNks",
        "colab_type": "text"
      },
      "source": [
        "## Loading the CIFAR10 data set"
      ]
    },
    {
      "cell_type": "code",
      "metadata": {
        "id": "FSJyddqGexl5",
        "colab_type": "code",
        "outputId": "f9c127b2-f31b-449e-bf64-477fb76a7010",
        "colab": {
          "base_uri": "https://localhost:8080/",
          "height": 116
        }
      },
      "source": [
        "from keras.datasets import cifar10\n",
        "\n",
        "(train_images, train_labels), (test_images, test_labels) = cifar10.load_data()\n",
        "\n",
        "from keras.utils import to_categorical\n",
        "\n",
        "train_labels = to_categorical(train_labels)\n",
        "test_labels = to_categorical(test_labels)\n"
      ],
      "execution_count": 1,
      "outputs": [
        {
          "output_type": "stream",
          "text": [
            "Using TensorFlow backend.\n"
          ],
          "name": "stderr"
        },
        {
          "output_type": "display_data",
          "data": {
            "text/html": [
              "<p style=\"color: red;\">\n",
              "The default version of TensorFlow in Colab will soon switch to TensorFlow 2.x.<br>\n",
              "We recommend you <a href=\"https://www.tensorflow.org/guide/migrate\" target=\"_blank\">upgrade</a> now \n",
              "or ensure your notebook will continue to use TensorFlow 1.x via the <code>%tensorflow_version 1.x</code> magic:\n",
              "<a href=\"https://colab.research.google.com/notebooks/tensorflow_version.ipynb\" target=\"_blank\">more info</a>.</p>\n"
            ],
            "text/plain": [
              "<IPython.core.display.HTML object>"
            ]
          },
          "metadata": {
            "tags": []
          }
        },
        {
          "output_type": "stream",
          "text": [
            "Downloading data from https://www.cs.toronto.edu/~kriz/cifar-10-python.tar.gz\n",
            "170500096/170498071 [==============================] - 6s 0us/step\n"
          ],
          "name": "stdout"
        }
      ]
    },
    {
      "cell_type": "code",
      "metadata": {
        "id": "KzDZ4cp4JjOP",
        "colab_type": "code",
        "colab": {}
      },
      "source": [
        "%matplotlib inline\n",
        "\n",
        "import matplotlib.pyplot as plt\n",
        "\n",
        "from keras.preprocessing import image\n",
        "\n"
      ],
      "execution_count": 0,
      "outputs": []
    },
    {
      "cell_type": "markdown",
      "metadata": {
        "id": "Fb_ktecuS3pQ",
        "colab_type": "text"
      },
      "source": [
        "## Randomly augmented images"
      ]
    },
    {
      "cell_type": "code",
      "metadata": {
        "id": "66w3Z4wRSqQn",
        "colab_type": "code",
        "colab": {}
      },
      "source": [
        "from keras.preprocessing.image import ImageDataGenerator\n",
        "\n",
        "datagen = ImageDataGenerator(\n",
        "    rotation_range=40,\n",
        "    width_shift_range=0.2,\n",
        "    height_shift_range=0.2,\n",
        "    shear_range=0.2,\n",
        "    zoom_range=0.2,\n",
        "    horizontal_flip=True,\n",
        "    fill_mode='nearest'\n",
        ")\n",
        "train_datagen = ImageDataGenerator(\n",
        "    \n",
        "    rotation_range=40,\n",
        "    width_shift_range=0.2,\n",
        "    height_shift_range=0.2,\n",
        "    shear_range=0.2,\n",
        "    zoom_range=0.2,\n",
        "    horizontal_flip=True,\n",
        "    fill_mode='nearest')\n",
        "train_generator = train_datagen.flow(train_images,\n",
        "    train_labels,\n",
        "    batch_size=32,\n",
        "   \n",
        ")\n",
        "\n",
        "validation_datagen = ImageDataGenerator()\n",
        "\n",
        "validation_generator = validation_datagen.flow(\n",
        "    test_images,\n",
        "    test_labels,\n",
        "    batch_size=32,\n",
        ")\n"
      ],
      "execution_count": 0,
      "outputs": []
    },
    {
      "cell_type": "code",
      "metadata": {
        "id": "WZuC2NVqQ6sX",
        "colab_type": "code",
        "outputId": "9b224efb-c4aa-492e-a590-2af16d486cbd",
        "colab": {
          "base_uri": "https://localhost:8080/",
          "height": 52
        }
      },
      "source": [
        "from keras import layers\n",
        "from keras import models\n",
        "from keras import optimizers\n",
        "from keras.applications import VGG16\n",
        "import numpy as np\n",
        "model = models.Sequential()\n"
      ],
      "execution_count": 10,
      "outputs": [
        {
          "output_type": "stream",
          "text": [
            "WARNING:tensorflow:From /usr/local/lib/python3.6/dist-packages/keras/backend/tensorflow_backend.py:66: The name tf.get_default_graph is deprecated. Please use tf.compat.v1.get_default_graph instead.\n",
            "\n"
          ],
          "name": "stdout"
        }
      ]
    },
    {
      "cell_type": "markdown",
      "metadata": {
        "id": "wjUvv8TOQW9p",
        "colab_type": "text"
      },
      "source": [
        "## Underfit Model\n"
      ]
    },
    {
      "cell_type": "code",
      "metadata": {
        "id": "M3EnBjt9QkVr",
        "colab_type": "code",
        "colab": {}
      },
      "source": [
        "model = models.Sequential()\n",
        "# conv layers\n",
        "# 1\n",
        "model.add(layers.Conv2D(2, (3, 3), activation='relu',input_shape=(32,32, 3,)))\n",
        "model.add(layers.MaxPooling2D(2, 2))\n",
        "\"\"\"# 3\n",
        "model.add(layers.Conv2D(32, (3, 3), activation='relu'))\n",
        "model.add(layers.MaxPooling2D(2, 2))\n",
        "# 4\n",
        "model.add(layers.Conv2D(64, (3, 3), activation='relu'))\n",
        "model.add(layers.MaxPooling2D(2, 2))\n",
        "\"\"\"\n",
        "# dense layers\n",
        "model.add(layers.Flatten())\n",
        "# DROPOUT\n",
        "\"\"\"model.add(layers.Dropout(0.1))\n",
        "model.add(layers.Dense(256, activation='relu'))\"\"\"\n",
        "model.add(layers.Dense(10, activation='softmax'))"
      ],
      "execution_count": 0,
      "outputs": []
    },
    {
      "cell_type": "markdown",
      "metadata": {
        "id": "IPcMKR744VQ2",
        "colab_type": "text"
      },
      "source": [
        "\n",
        "## Overfit Model\n",
        "\n"
      ]
    },
    {
      "cell_type": "code",
      "metadata": {
        "id": "ii--5KB14Uwv",
        "colab_type": "code",
        "colab": {}
      },
      "source": [
        "model = models.Sequential()\n",
        "# conv layers\n",
        "# 1\n",
        "model.add(layers.Conv2D(16, (3, 3), activation='relu',input_shape=(32,32, 3,)))\n",
        "model.add(layers.MaxPooling2D(2, 2))\n",
        "# 3\n",
        "model.add(layers.Conv2D(32, (3, 3), activation='relu'))\n",
        "model.add(layers.MaxPooling2D(2, 2))\n",
        "# 4\n",
        "model.add(layers.Conv2D(64, (3, 3), activation='relu'))\n",
        "model.add(layers.MaxPooling2D(2, 2))\n",
        "\n",
        "# dense layers\n",
        "model.add(layers.Flatten())\n",
        "# DROPOUT\n",
        "#model.add(layers.Dropout(0.1))\n",
        "model.add(layers.Dense(256, activation='relu'))\n",
        "model.add(layers.Dense(10, activation='softmax'))"
      ],
      "execution_count": 0,
      "outputs": []
    },
    {
      "cell_type": "markdown",
      "metadata": {
        "id": "N_WOUJu14tq1",
        "colab_type": "text"
      },
      "source": [
        "##Proper Fit Model"
      ]
    },
    {
      "cell_type": "code",
      "metadata": {
        "id": "6CJzHEct4xRz",
        "colab_type": "code",
        "outputId": "7bb3fb18-4c1f-43f6-cba5-236a8e8050b1",
        "colab": {
          "base_uri": "https://localhost:8080/"
        }
      },
      "source": [
        "model = models.Sequential()\n",
        "# conv layers\n",
        "# 1\n",
        "model.add(layers.Conv2D(32, (3, 3), activation='relu',input_shape=(32,32, 3,)))\n",
        "model.add(layers.MaxPooling2D(2, 2))\n",
        "# 3\n",
        "model.add(layers.Conv2D(64, (3, 3), activation='relu'))\n",
        "model.add(layers.MaxPooling2D(2, 2))\n",
        "# 4\n",
        "model.add(layers.Conv2D(128, (3, 3), activation='relu'))\n",
        "model.add(layers.MaxPooling2D(2, 2))\n",
        "# dense layers\n",
        "model.add(layers.Flatten())\n",
        "# DROPOUT\n",
        "model.add(layers.Dropout(0.1))\n",
        "model.add(layers.Dense(256, activation='relu'))\n",
        "model.add(layers.Dense(10, activation='softmax'))"
      ],
      "execution_count": 0,
      "outputs": [
        {
          "output_type": "stream",
          "text": [
            "WARNING:tensorflow:From /usr/local/lib/python3.6/dist-packages/keras/backend/tensorflow_backend.py:148: The name tf.placeholder_with_default is deprecated. Please use tf.compat.v1.placeholder_with_default instead.\n",
            "\n",
            "WARNING:tensorflow:From /usr/local/lib/python3.6/dist-packages/keras/backend/tensorflow_backend.py:3733: calling dropout (from tensorflow.python.ops.nn_ops) with keep_prob is deprecated and will be removed in a future version.\n",
            "Instructions for updating:\n",
            "Please use `rate` instead of `keep_prob`. Rate should be set to `rate = 1 - keep_prob`.\n"
          ],
          "name": "stdout"
        }
      ]
    },
    {
      "cell_type": "markdown",
      "metadata": {
        "id": "JAUeTqilPvcW",
        "colab_type": "text"
      },
      "source": [
        "## Training the convnet using data-augmentation generators"
      ]
    },
    {
      "cell_type": "code",
      "metadata": {
        "id": "6dLh76MWHG5W",
        "colab_type": "code",
        "outputId": "854f5244-4b32-4155-92f8-2092eec9a1bf",
        "colab": {
          "base_uri": "https://localhost:8080/",
          "height": 816
        }
      },
      "source": [
        "\n",
        "\n",
        "model.compile(\n",
        "    loss='binary_crossentropy', \n",
        "    optimizer='rmsprop', \n",
        "    metrics=['acc'])\n",
        "model.summary()\n",
        "history = model.fit_generator(\n",
        "    train_generator,\n",
        "    steps_per_epoch=1000,\n",
        "    epochs=10,\n",
        "    validation_data=validation_generator,\n",
        "    validation_steps=500\n",
        ")\n",
        "                    "
      ],
      "execution_count": 20,
      "outputs": [
        {
          "output_type": "stream",
          "text": [
            "Model: \"sequential_4\"\n",
            "_________________________________________________________________\n",
            "Layer (type)                 Output Shape              Param #   \n",
            "=================================================================\n",
            "conv2d_5 (Conv2D)            (None, 30, 30, 2)         56        \n",
            "_________________________________________________________________\n",
            "max_pooling2d_5 (MaxPooling2 (None, 15, 15, 2)         0         \n",
            "_________________________________________________________________\n",
            "flatten_3 (Flatten)          (None, 450)               0         \n",
            "_________________________________________________________________\n",
            "dense_4 (Dense)              (None, 10)                4510      \n",
            "=================================================================\n",
            "Total params: 4,566\n",
            "Trainable params: 4,566\n",
            "Non-trainable params: 0\n",
            "_________________________________________________________________\n",
            "Epoch 1/10\n",
            "WARNING:tensorflow:From /usr/local/lib/python3.6/dist-packages/keras/backend/tensorflow_backend.py:190: The name tf.get_default_session is deprecated. Please use tf.compat.v1.get_default_session instead.\n",
            "\n",
            "WARNING:tensorflow:From /usr/local/lib/python3.6/dist-packages/keras/backend/tensorflow_backend.py:197: The name tf.ConfigProto is deprecated. Please use tf.compat.v1.ConfigProto instead.\n",
            "\n",
            "WARNING:tensorflow:From /usr/local/lib/python3.6/dist-packages/keras/backend/tensorflow_backend.py:207: The name tf.global_variables is deprecated. Please use tf.compat.v1.global_variables instead.\n",
            "\n",
            "WARNING:tensorflow:From /usr/local/lib/python3.6/dist-packages/keras/backend/tensorflow_backend.py:216: The name tf.is_variable_initialized is deprecated. Please use tf.compat.v1.is_variable_initialized instead.\n",
            "\n",
            "WARNING:tensorflow:From /usr/local/lib/python3.6/dist-packages/keras/backend/tensorflow_backend.py:223: The name tf.variables_initializer is deprecated. Please use tf.compat.v1.variables_initializer instead.\n",
            "\n",
            "1000/1000 [==============================] - 31s 31ms/step - loss: 2.8787 - acc: 0.8204 - val_loss: 2.8888 - val_acc: 0.8198\n",
            "Epoch 2/10\n",
            "1000/1000 [==============================] - 31s 31ms/step - loss: 2.8861 - acc: 0.8198 - val_loss: 2.8840 - val_acc: 0.8201\n",
            "Epoch 3/10\n",
            "1000/1000 [==============================] - 30s 30ms/step - loss: 2.8833 - acc: 0.8201 - val_loss: 2.8843 - val_acc: 0.8201\n",
            "Epoch 4/10\n",
            "1000/1000 [==============================] - 30s 30ms/step - loss: 2.8923 - acc: 0.8196 - val_loss: 2.8908 - val_acc: 0.8197\n",
            "Epoch 5/10\n",
            "1000/1000 [==============================] - 30s 30ms/step - loss: 2.8807 - acc: 0.8203 - val_loss: 2.8811 - val_acc: 0.8203\n",
            "Epoch 6/10\n",
            "1000/1000 [==============================] - 31s 31ms/step - loss: 2.8830 - acc: 0.8202 - val_loss: 2.8820 - val_acc: 0.8202\n",
            "Epoch 7/10\n",
            "1000/1000 [==============================] - 31s 31ms/step - loss: 2.8852 - acc: 0.8200 - val_loss: 2.8926 - val_acc: 0.8196\n",
            "Epoch 8/10\n",
            "1000/1000 [==============================] - 31s 31ms/step - loss: 2.8893 - acc: 0.8198 - val_loss: 2.8771 - val_acc: 0.8205\n",
            "Epoch 9/10\n",
            "1000/1000 [==============================] - 31s 31ms/step - loss: 2.8827 - acc: 0.8202 - val_loss: 2.8908 - val_acc: 0.8197\n",
            "Epoch 10/10\n",
            "1000/1000 [==============================] - 31s 31ms/step - loss: 2.8895 - acc: 0.8198 - val_loss: 2.8859 - val_acc: 0.8200\n"
          ],
          "name": "stdout"
        }
      ]
    },
    {
      "cell_type": "markdown",
      "metadata": {
        "id": "mhSNO0zLe-j8",
        "colab_type": "text"
      },
      "source": [
        "##Training the covenet with regular data"
      ]
    },
    {
      "cell_type": "code",
      "metadata": {
        "id": "LGazhlcFfHzv",
        "colab_type": "code",
        "outputId": "d335fdb7-5307-4126-c8a7-1e8e829acc83",
        "colab": {
          "base_uri": "https://localhost:8080/",
          "height": 521
        }
      },
      "source": [
        "\n",
        "model.compile(\n",
        "    loss='binary_crossentropy', \n",
        "    optimizer='rmsprop', \n",
        "    metrics=['acc'])\n",
        "model.summary()\n",
        "\n",
        "epochs = 6\n",
        "history = model.fit(train_images,\n",
        "                    train_labels,\n",
        "                    epochs=epochs, \n",
        "                    batch_size=32, \n",
        "                    validation_data=(test_images, test_labels))"
      ],
      "execution_count": 22,
      "outputs": [
        {
          "output_type": "stream",
          "text": [
            "Model: \"sequential_4\"\n",
            "_________________________________________________________________\n",
            "Layer (type)                 Output Shape              Param #   \n",
            "=================================================================\n",
            "conv2d_5 (Conv2D)            (None, 30, 30, 2)         56        \n",
            "_________________________________________________________________\n",
            "max_pooling2d_5 (MaxPooling2 (None, 15, 15, 2)         0         \n",
            "_________________________________________________________________\n",
            "flatten_3 (Flatten)          (None, 450)               0         \n",
            "_________________________________________________________________\n",
            "dense_4 (Dense)              (None, 10)                4510      \n",
            "=================================================================\n",
            "Total params: 4,566\n",
            "Trainable params: 4,566\n",
            "Non-trainable params: 0\n",
            "_________________________________________________________________\n",
            "Train on 50000 samples, validate on 10000 samples\n",
            "Epoch 1/6\n",
            "50000/50000 [==============================] - 23s 456us/step - loss: 2.8854 - acc: 0.8200 - val_loss: 2.8854 - val_acc: 0.8200\n",
            "Epoch 2/6\n",
            "50000/50000 [==============================] - 22s 443us/step - loss: 2.8854 - acc: 0.8200 - val_loss: 2.8854 - val_acc: 0.8200\n",
            "Epoch 3/6\n",
            "50000/50000 [==============================] - 22s 447us/step - loss: 2.8854 - acc: 0.8200 - val_loss: 2.8854 - val_acc: 0.8200\n",
            "Epoch 4/6\n",
            "50000/50000 [==============================] - 22s 444us/step - loss: 2.8854 - acc: 0.8200 - val_loss: 2.8854 - val_acc: 0.8200\n",
            "Epoch 5/6\n",
            "50000/50000 [==============================] - 22s 445us/step - loss: 2.8854 - acc: 0.8200 - val_loss: 2.8854 - val_acc: 0.8200\n",
            "Epoch 6/6\n",
            "50000/50000 [==============================] - 22s 440us/step - loss: 2.8854 - acc: 0.8200 - val_loss: 2.8854 - val_acc: 0.8200\n"
          ],
          "name": "stdout"
        }
      ]
    },
    {
      "cell_type": "markdown",
      "metadata": {
        "id": "xqRc_vHKc92U",
        "colab_type": "text"
      },
      "source": [
        "## Display curves of loss and accuracy during training"
      ]
    },
    {
      "cell_type": "code",
      "metadata": {
        "id": "ybWwdzz9bwuQ",
        "colab_type": "code",
        "outputId": "f7af7ad5-2195-4bab-98d9-3b7a3fa64001",
        "colab": {
          "base_uri": "https://localhost:8080/",
          "height": 545
        }
      },
      "source": [
        "acc = history.history['acc']\n",
        "val_acc = history.history['val_acc']\n",
        "\n",
        "loss = history.history['loss']\n",
        "val_loss = history.history['val_loss']\n",
        "\n",
        "epochs = range(1, len(acc) + 1)\n",
        "\n",
        "# training and validation accuracy\n",
        "\n",
        "plt.plot(epochs, acc, 'bo', label='training acc')\n",
        "plt.plot(epochs, val_acc, 'b', label='validation acc')\n",
        "plt.title('training and validation accuracy')\n",
        "plt.legend()\n",
        "\n",
        "plt.figure()\n",
        "\n",
        "# training and validation loss\n",
        "\n",
        "plt.plot(epochs, loss, 'bo', label='training loss')\n",
        "plt.plot(epochs, val_loss, 'b', label='validation loss')\n",
        "plt.title('training and validation loss')\n",
        "plt.legend()\n",
        "\n",
        "plt.show()"
      ],
      "execution_count": 0,
      "outputs": [
        {
          "output_type": "display_data",
          "data": {
            "image/png": "[encoded data removed]",
            "text/plain": [
              "<Figure size 432x288 with 1 Axes>"
            ]
          },
          "metadata": {
            "tags": []
          }
        },
        {
          "output_type": "display_data",
          "data": {
            "image/png": "[encoded data removed]",
            "text/plain": [
              "<Figure size 432x288 with 1 Axes>"
            ]
          },
          "metadata": {
            "tags": []
          }
        }
      ]
    }
  ]
}
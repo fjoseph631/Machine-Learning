{
  "nbformat": 4,
  "nbformat_minor": 0,
  "metadata": {
    "colab": {
      "name": "Problem 3 HW1 AI",
      "provenance": [],
      "collapsed_sections": [],
      "include_colab_link": true
    },
    "kernelspec": {
      "name": "python3",
      "display_name": "Python 3"
    }
  },
  "cells": [
    {
      "cell_type": "markdown",
      "metadata": {
        "id": "view-in-github",
        "colab_type": "text"
      },
      "source": [
        "<a href=\"https://colab.research.google.com/github/fjoseph631/Machine-Learning/blob/master/Problem_3_HW1_AI.ipynb\" target=\"_parent\"><img src=\"https://colab.research.google.com/assets/colab-badge.svg\" alt=\"Open In Colab\"/></a>"
      ]
    },
    {
      "cell_type": "code",
      "metadata": {
        "id": "aRFNJIUMOR8L",
        "colab_type": "code",
        "colab": {
          "base_uri": "https://localhost:8080/",
          "height": 451
        },
        "outputId": "f2b58bf6-026c-4987-cc6a-d23c78659192"
      },
      "source": [
        "from keras.datasets import mnist\n",
        "\n",
        "(train_images_original, train_labels_original), (test_images_original, test_labels_original) = mnist.load_data()\n",
        "train_images = train_images_original.reshape((60000, 28 * 28))\n",
        "train_images = train_images.astype('float32') / 255\n",
        "\n",
        "test_images = test_images_original.reshape((10000, 28 * 28))\n",
        "test_images = test_images.astype('float32') / 255\n",
        "from keras.utils import to_categorical\n",
        "\n",
        "train_labels = to_categorical(train_labels_original)\n",
        "test_labels = to_categorical(test_labels_original)\n",
        "from keras import models\n",
        "from keras import layers\n",
        "\n",
        "network = models.Sequential()\n",
        "network.add(layers.Dense(256, activation='relu', input_shape=(28 * 28,)))\n",
        "network.add(layers.Dense(10, activation='softmax'))\n",
        "network.summary()\n",
        "network.compile(optimizer='rmsprop',\n",
        "                loss='categorical_crossentropy',\n",
        "                metrics=['accuracy'])\n",
        "epochs = 6\n",
        "history = network.fit(train_images, \n",
        "                      train_labels, \n",
        "                      epochs=epochs, \n",
        "                      batch_size=128, \n",
        "                      validation_data=(test_images, test_labels))\n",
        "\n",
        "\n"
      ],
      "execution_count": 10,
      "outputs": [
        {
          "output_type": "stream",
          "text": [
            "Model: \"sequential_4\"\n",
            "_________________________________________________________________\n",
            "Layer (type)                 Output Shape              Param #   \n",
            "=================================================================\n",
            "dense_7 (Dense)              (None, 256)               200960    \n",
            "_________________________________________________________________\n",
            "dense_8 (Dense)              (None, 10)                2570      \n",
            "=================================================================\n",
            "Total params: 203,530\n",
            "Trainable params: 203,530\n",
            "Non-trainable params: 0\n",
            "_________________________________________________________________\n",
            "Train on 60000 samples, validate on 10000 samples\n",
            "Epoch 1/6\n",
            "60000/60000 [==============================] - 3s 56us/step - loss: 0.2916 - acc: 0.9172 - val_loss: 0.1497 - val_acc: 0.9550\n",
            "Epoch 2/6\n",
            "60000/60000 [==============================] - 3s 49us/step - loss: 0.1300 - acc: 0.9626 - val_loss: 0.1027 - val_acc: 0.9698\n",
            "Epoch 3/6\n",
            "60000/60000 [==============================] - 3s 49us/step - loss: 0.0885 - acc: 0.9738 - val_loss: 0.0901 - val_acc: 0.9736\n",
            "Epoch 4/6\n",
            "60000/60000 [==============================] - 3s 48us/step - loss: 0.0673 - acc: 0.9801 - val_loss: 0.0843 - val_acc: 0.9742\n",
            "Epoch 5/6\n",
            "60000/60000 [==============================] - 3s 49us/step - loss: 0.0539 - acc: 0.9840 - val_loss: 0.0785 - val_acc: 0.9768\n",
            "Epoch 6/6\n",
            "60000/60000 [==============================] - 3s 49us/step - loss: 0.0429 - acc: 0.9873 - val_loss: 0.0711 - val_acc: 0.9787\n"
          ],
          "name": "stdout"
        }
      ]
    },
    {
      "cell_type": "code",
      "metadata": {
        "id": "0wE8YqNPOkzl",
        "colab_type": "code",
        "colab": {
          "base_uri": "https://localhost:8080/",
          "height": 237
        },
        "outputId": "715dbf62-a9a3-4cab-bf64-78d0e96edf90"
      },
      "source": [
        "# load and display an image with Matplotlib\n",
        "import numpy as np\n",
        "import matplotlib as plt\n",
        "from matplotlib import image\n",
        "from matplotlib import pyplot\n",
        "\n",
        "# lopp and filter based on labels\n",
        "sets=[]\n",
        "images=[]\n",
        "for i in range (10):\n",
        "  sets.append([])\n",
        "  images.append([])\n",
        "\n",
        "\n",
        "#for i in range (10):\n",
        "  #print(train_labels[0])\n",
        "predictions = network.predict(test_images)\n",
        "predicted_labels = np.argmax(predictions, axis=1) \n",
        "predicted_labels = predicted_labels.astype('uint8')\n",
        "from PIL import Image\n",
        "for i in range (10):\n",
        "  for j in range (len(predicted_labels)):\n",
        "    if(predicted_labels[j]==i):\n",
        "      sets[i].append(predicted_labels[j])\n",
        "      images[i].append(test_images[j])\n",
        "for i in range (10):\n",
        "  avgArray=np.zeros((28,28))\n",
        "  for j in range (0,len(sets[i])):\n",
        "    arr=(images[i][j])\n",
        "    arr=np.reshape(arr, (28, 28))\n",
        "    avgArray+=arr\n",
        "  plt.figure(figsize=(4,4))\n",
        "  plt.imshow(avgArray)\n",
        "\n",
        "wrong_indices = [i for i in range(len(test_images)) if predicted_labels[i] != test_labels_original[i]]\n",
        "correct_indices =[i for i in range(10000) if predicted_labels[i] == test_labels_original[i]]"
      ],
      "execution_count": 11,
      "outputs": [
        {
          "output_type": "error",
          "ename": "TypeError",
          "evalue": "ignored",
          "traceback": [
            "\u001b[0;31m---------------------------------------------------------------------------\u001b[0m",
            "\u001b[0;31mTypeError\u001b[0m                                 Traceback (most recent call last)",
            "\u001b[0;32m<ipython-input-11-6f49ae1618dc>\u001b[0m in \u001b[0;36m<module>\u001b[0;34m()\u001b[0m\n\u001b[1;32m     29\u001b[0m     \u001b[0marr\u001b[0m\u001b[0;34m=\u001b[0m\u001b[0mnp\u001b[0m\u001b[0;34m.\u001b[0m\u001b[0mreshape\u001b[0m\u001b[0;34m(\u001b[0m\u001b[0marr\u001b[0m\u001b[0;34m,\u001b[0m \u001b[0;34m(\u001b[0m\u001b[0;36m28\u001b[0m\u001b[0;34m,\u001b[0m \u001b[0;36m28\u001b[0m\u001b[0;34m)\u001b[0m\u001b[0;34m)\u001b[0m\u001b[0;34m\u001b[0m\u001b[0;34m\u001b[0m\u001b[0m\n\u001b[1;32m     30\u001b[0m     \u001b[0mavgArray\u001b[0m\u001b[0;34m+=\u001b[0m\u001b[0marr\u001b[0m\u001b[0;34m\u001b[0m\u001b[0;34m\u001b[0m\u001b[0m\n\u001b[0;32m---> 31\u001b[0;31m   \u001b[0mplt\u001b[0m\u001b[0;34m.\u001b[0m\u001b[0mfigure\u001b[0m\u001b[0;34m(\u001b[0m\u001b[0mfigsize\u001b[0m\u001b[0;34m=\u001b[0m\u001b[0;34m(\u001b[0m\u001b[0;36m4\u001b[0m\u001b[0;34m,\u001b[0m\u001b[0;36m4\u001b[0m\u001b[0;34m)\u001b[0m\u001b[0;34m)\u001b[0m\u001b[0;34m\u001b[0m\u001b[0;34m\u001b[0m\u001b[0m\n\u001b[0m\u001b[1;32m     32\u001b[0m   \u001b[0mplt\u001b[0m\u001b[0;34m.\u001b[0m\u001b[0mimshow\u001b[0m\u001b[0;34m(\u001b[0m\u001b[0mavgArray\u001b[0m\u001b[0;34m)\u001b[0m\u001b[0;34m\u001b[0m\u001b[0;34m\u001b[0m\u001b[0m\n\u001b[1;32m     33\u001b[0m \u001b[0;34m\u001b[0m\u001b[0m\n",
            "\u001b[0;31mTypeError\u001b[0m: 'module' object is not callable"
          ]
        }
      ]
    }
  ]
}
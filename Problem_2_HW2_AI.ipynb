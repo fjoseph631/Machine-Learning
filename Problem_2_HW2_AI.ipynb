{
  "nbformat": 4,
  "nbformat_minor": 0,
  "metadata": {
    "colab": {
      "name": "Problem 2 HW2 AI",
      "provenance": [],
      "collapsed_sections": [
        "l34GNy7tyNks",
        "JC5iBT_0OCSl",
        "lACZX7lgJw8B",
        "MPm7hOlJKKFI",
        "4xzSPSx5KVuz",
        "OA975wHjOJI-",
        "mORb9IwPP7oE",
        "GqbGdV6oXEyP"
      ],
      "include_colab_link": true
    },
    "kernelspec": {
      "name": "python3",
      "display_name": "Python 3"
    },
    "accelerator": "GPU"
  },
  "cells": [
    {
      "cell_type": "markdown",
      "metadata": {
        "id": "view-in-github",
        "colab_type": "text"
      },
      "source": [
        "<a href=\"https://colab.research.google.com/github/fjoseph631/Machine-Learning/blob/master/Problem_2_HW2_AI.ipynb\" target=\"_parent\"><img src=\"https://colab.research.google.com/assets/colab-badge.svg\" alt=\"Open In Colab\"/></a>"
      ]
    },
    {
      "cell_type": "markdown",
      "metadata": {
        "id": "l34GNy7tyNks",
        "colab_type": "text"
      },
      "source": [
        "## Loading the MNIST fashion data set"
      ]
    },
    {
      "cell_type": "code",
      "metadata": {
        "id": "FSJyddqGexl5",
        "colab_type": "code",
        "colab": {
          "base_uri": "https://localhost:8080/",
          "height": 203
        },
        "outputId": "4c878221-5b8f-4f48-e0a4-70af5449e591"
      },
      "source": [
        "import tensorflow as tf\n",
        "from tensorflow import keras\n",
        "%matplotlib inline\n",
        "import matplotlib.pyplot as plt\n",
        "\n",
        "fashion_mnist = keras.datasets.fashion_mnist\n",
        "\n",
        "(train_images, train_labels), (test_images, test_labels) = fashion_mnist.load_data()"
      ],
      "execution_count": 1,
      "outputs": [
        {
          "output_type": "display_data",
          "data": {
            "text/html": [
              "<p style=\"color: red;\">\n",
              "The default version of TensorFlow in Colab will soon switch to TensorFlow 2.x.<br>\n",
              "We recommend you <a href=\"https://www.tensorflow.org/guide/migrate\" target=\"_blank\">upgrade</a> now \n",
              "or ensure your notebook will continue to use TensorFlow 1.x via the <code>%tensorflow_version 1.x</code> magic:\n",
              "<a href=\"https://colab.research.google.com/notebooks/tensorflow_version.ipynb\" target=\"_blank\">more info</a>.</p>\n"
            ],
            "text/plain": [
              "<IPython.core.display.HTML object>"
            ]
          },
          "metadata": {
            "tags": []
          }
        },
        {
          "output_type": "stream",
          "text": [
            "Downloading data from https://storage.googleapis.com/tensorflow/tf-keras-datasets/train-labels-idx1-ubyte.gz\n",
            "32768/29515 [=================================] - 0s 0us/step\n",
            "Downloading data from https://storage.googleapis.com/tensorflow/tf-keras-datasets/train-images-idx3-ubyte.gz\n",
            "26427392/26421880 [==============================] - 1s 0us/step\n",
            "Downloading data from https://storage.googleapis.com/tensorflow/tf-keras-datasets/t10k-labels-idx1-ubyte.gz\n",
            "8192/5148 [===============================================] - 0s 0us/step\n",
            "Downloading data from https://storage.googleapis.com/tensorflow/tf-keras-datasets/t10k-images-idx3-ubyte.gz\n",
            "4423680/4422102 [==============================] - 0s 0us/step\n"
          ],
          "name": "stdout"
        }
      ]
    },
    {
      "cell_type": "markdown",
      "metadata": {
        "id": "JC5iBT_0OCSl",
        "colab_type": "text"
      },
      "source": [
        "## Preprocess the data"
      ]
    },
    {
      "cell_type": "code",
      "metadata": {
        "id": "inugSPsZNytV",
        "colab_type": "code",
        "colab": {}
      },
      "source": [
        "train_images = train_images / 255.0\n",
        "test_images = test_images / 255.0"
      ],
      "execution_count": 0,
      "outputs": []
    },
    {
      "cell_type": "markdown",
      "metadata": {
        "id": "lACZX7lgJw8B",
        "colab_type": "text"
      },
      "source": [
        "\n",
        "## Underfitting Model\n"
      ]
    },
    {
      "cell_type": "code",
      "metadata": {
        "id": "FWhi9Ry5J7Mu",
        "colab_type": "code",
        "colab": {
          "base_uri": "https://localhost:8080/",
          "height": 89
        },
        "outputId": "91f6426b-dba2-4b09-e49f-eb7609def931"
      },
      "source": [
        "#Under\n",
        "model = keras.Sequential([\n",
        "    keras.layers.Flatten(input_shape=(28, 28)),\n",
        "    keras.layers.Dense(2, activation=tf.nn.relu),\n",
        "    keras.layers.Dense(10, activation=tf.nn.softmax)\n",
        "])"
      ],
      "execution_count": 3,
      "outputs": [
        {
          "output_type": "stream",
          "text": [
            "WARNING:tensorflow:From /usr/local/lib/python3.6/dist-packages/tensorflow_core/python/ops/resource_variable_ops.py:1630: calling BaseResourceVariable.__init__ (from tensorflow.python.ops.resource_variable_ops) with constraint is deprecated and will be removed in a future version.\n",
            "Instructions for updating:\n",
            "If using Keras pass *_constraint arguments to layers.\n"
          ],
          "name": "stdout"
        }
      ]
    },
    {
      "cell_type": "markdown",
      "metadata": {
        "id": "MPm7hOlJKKFI",
        "colab_type": "text"
      },
      "source": [
        "##Overfitting Model"
      ]
    },
    {
      "cell_type": "code",
      "metadata": {
        "id": "aoj0K2VQKQHc",
        "colab_type": "code",
        "colab": {}
      },
      "source": [
        "# set up the layers\n",
        "#Overfit\n",
        "model = keras.Sequential([\n",
        "    keras.layers.Flatten(input_shape=(28, 28)),\n",
        "    keras.layers.Dense(1024, activation=tf.nn.relu),\n",
        "    keras.layers.Dense(10, activation=tf.nn.softmax)\n",
        "])"
      ],
      "execution_count": 0,
      "outputs": []
    },
    {
      "cell_type": "markdown",
      "metadata": {
        "id": "4xzSPSx5KVuz",
        "colab_type": "text"
      },
      "source": [
        "##Proper Fitting Model\n"
      ]
    },
    {
      "cell_type": "code",
      "metadata": {
        "id": "iQD3XdeLKdWr",
        "colab_type": "code",
        "colab": {
          "base_uri": "https://localhost:8080/",
          "height": 34
        },
        "outputId": "e685218b-b59f-42d2-d311-a690ed698bd8"
      },
      "source": [
        "#Proper Fit\n",
        "model = keras.Sequential([\n",
        "    keras.layers.Flatten(input_shape=(28, 28)),\n",
        "    \n",
        "    keras.layers.Dense(512, activation=tf.nn.relu),\n",
        "    keras.layers.Dropout(0.6),\n",
        "    keras.layers.Dense(10, activation=tf.nn.softmax)\n",
        "])\n",
        "#compiler(model)"
      ],
      "execution_count": 28,
      "outputs": [
        {
          "output_type": "stream",
          "text": [
            "WARNING:tensorflow:Large dropout rate: 0.6 (>0.5). In TensorFlow 2.x, dropout() uses dropout rate instead of keep_prob. Please ensure that this is intended.\n"
          ],
          "name": "stdout"
        }
      ]
    },
    {
      "cell_type": "markdown",
      "metadata": {
        "id": "OA975wHjOJI-",
        "colab_type": "text"
      },
      "source": [
        "## Build the model"
      ]
    },
    {
      "cell_type": "code",
      "metadata": {
        "id": "ZX6SGTpMOIKN",
        "colab_type": "code",
        "outputId": "025b0f02-179b-4192-b58a-8970e4ddf6f8",
        "colab": {
          "base_uri": "https://localhost:8080/",
          "height": 729
        }
      },
      "source": [
        "\n",
        "\n",
        "#def compiler(model):\n",
        "\n",
        "\n",
        "# compile the model\n",
        "\n",
        "model.compile(optimizer='adam',\n",
        "            loss='sparse_categorical_crossentropy',\n",
        "            #loss='binary_crossentropy',\n",
        "            metrics=['accuracy'])\n",
        "\n",
        "# train the model\n",
        "epochs = 20\n",
        "history = model.fit(train_images, \n",
        "                      train_labels, \n",
        "                      epochs=epochs,  \n",
        "                      validation_data=(test_images, test_labels))"
      ],
      "execution_count": 29,
      "outputs": [
        {
          "output_type": "stream",
          "text": [
            "Train on 60000 samples, validate on 10000 samples\n",
            "Epoch 1/20\n",
            "60000/60000 [==============================] - 5s 76us/sample - loss: 0.5886 - acc: 0.7886 - val_loss: 0.4512 - val_acc: 0.8393\n",
            "Epoch 2/20\n",
            "60000/60000 [==============================] - 4s 73us/sample - loss: 0.4632 - acc: 0.8304 - val_loss: 0.4211 - val_acc: 0.8469\n",
            "Epoch 3/20\n",
            "60000/60000 [==============================] - 4s 73us/sample - loss: 0.4332 - acc: 0.8424 - val_loss: 0.3905 - val_acc: 0.8570\n",
            "Epoch 4/20\n",
            "60000/60000 [==============================] - 4s 75us/sample - loss: 0.4153 - acc: 0.8485 - val_loss: 0.3884 - val_acc: 0.8598\n",
            "Epoch 5/20\n",
            "60000/60000 [==============================] - 4s 73us/sample - loss: 0.4024 - acc: 0.8525 - val_loss: 0.3905 - val_acc: 0.8538\n",
            "Epoch 6/20\n",
            "60000/60000 [==============================] - 4s 74us/sample - loss: 0.3953 - acc: 0.8558 - val_loss: 0.3626 - val_acc: 0.8707\n",
            "Epoch 7/20\n",
            "60000/60000 [==============================] - 4s 74us/sample - loss: 0.3846 - acc: 0.8597 - val_loss: 0.3858 - val_acc: 0.8622\n",
            "Epoch 8/20\n",
            "60000/60000 [==============================] - 5s 79us/sample - loss: 0.3734 - acc: 0.8625 - val_loss: 0.3688 - val_acc: 0.8696\n",
            "Epoch 9/20\n",
            "60000/60000 [==============================] - 5s 79us/sample - loss: 0.3707 - acc: 0.8636 - val_loss: 0.3601 - val_acc: 0.8736\n",
            "Epoch 10/20\n",
            "60000/60000 [==============================] - 5s 78us/sample - loss: 0.3644 - acc: 0.8656 - val_loss: 0.3644 - val_acc: 0.8730\n",
            "Epoch 11/20\n",
            "60000/60000 [==============================] - 5s 76us/sample - loss: 0.3560 - acc: 0.8698 - val_loss: 0.3548 - val_acc: 0.8763\n",
            "Epoch 12/20\n",
            "60000/60000 [==============================] - 5s 76us/sample - loss: 0.3518 - acc: 0.8711 - val_loss: 0.3605 - val_acc: 0.8736\n",
            "Epoch 13/20\n",
            "60000/60000 [==============================] - 5s 80us/sample - loss: 0.3495 - acc: 0.8712 - val_loss: 0.3571 - val_acc: 0.8745\n",
            "Epoch 14/20\n",
            "60000/60000 [==============================] - 5s 80us/sample - loss: 0.3450 - acc: 0.8747 - val_loss: 0.3432 - val_acc: 0.8770\n",
            "Epoch 15/20\n",
            "60000/60000 [==============================] - 5s 77us/sample - loss: 0.3398 - acc: 0.8754 - val_loss: 0.3525 - val_acc: 0.8761\n",
            "Epoch 16/20\n",
            "60000/60000 [==============================] - 5s 78us/sample - loss: 0.3367 - acc: 0.8764 - val_loss: 0.3518 - val_acc: 0.8737\n",
            "Epoch 17/20\n",
            "60000/60000 [==============================] - 5s 77us/sample - loss: 0.3337 - acc: 0.8770 - val_loss: 0.3456 - val_acc: 0.8825\n",
            "Epoch 18/20\n",
            "60000/60000 [==============================] - 5s 77us/sample - loss: 0.3291 - acc: 0.8785 - val_loss: 0.3473 - val_acc: 0.8806\n",
            "Epoch 19/20\n",
            "60000/60000 [==============================] - 4s 74us/sample - loss: 0.3250 - acc: 0.8798 - val_loss: 0.3503 - val_acc: 0.8821\n",
            "Epoch 20/20\n",
            "60000/60000 [==============================] - 4s 74us/sample - loss: 0.3231 - acc: 0.8792 - val_loss: 0.3444 - val_acc: 0.8811\n"
          ],
          "name": "stdout"
        }
      ]
    },
    {
      "cell_type": "markdown",
      "metadata": {
        "id": "mORb9IwPP7oE",
        "colab_type": "text"
      },
      "source": [
        "## Evaluate accuracy"
      ]
    },
    {
      "cell_type": "code",
      "metadata": {
        "id": "rlKIF6ijOkiE",
        "colab_type": "code",
        "outputId": "72b8626b-5175-4165-837b-1b215a7d4fc2",
        "colab": {
          "base_uri": "https://localhost:8080/",
          "height": 52
        }
      },
      "source": [
        "test_loss, test_acc = model.evaluate(test_images, test_labels)\n",
        "\n",
        "print('Test accuracy:', test_acc)"
      ],
      "execution_count": 30,
      "outputs": [
        {
          "output_type": "stream",
          "text": [
            "10000/10000 [==============================] - 0s 49us/sample - loss: 0.3444 - acc: 0.8811\n",
            "Test accuracy: 0.8811\n"
          ],
          "name": "stdout"
        }
      ]
    },
    {
      "cell_type": "markdown",
      "metadata": {
        "id": "GqbGdV6oXEyP",
        "colab_type": "text"
      },
      "source": [
        "## Training/test loss/accuracy during training"
      ]
    },
    {
      "cell_type": "code",
      "metadata": {
        "id": "3b5OCE5YTrEc",
        "colab_type": "code",
        "colab": {}
      },
      "source": [
        "history_dict = history.history\n",
        "loss_values = history_dict['loss']\n",
        "test_loss_values = history_dict['val_loss']\n",
        "epochs_range = range(1, epochs+1)"
      ],
      "execution_count": 0,
      "outputs": []
    },
    {
      "cell_type": "code",
      "metadata": {
        "id": "y98AOblYT3Pk",
        "colab_type": "code",
        "outputId": "104a580e-4ba9-4993-d94f-f01d4f92dfe5",
        "colab": {
          "base_uri": "https://localhost:8080/",
          "height": 295
        }
      },
      "source": [
        "plt.plot(epochs_range, loss_values, 'bo', label='Training loss')\n",
        "plt.plot(epochs_range, test_loss_values, 'ro', label='Test loss')\n",
        "plt.title('Training and test loss')\n",
        "plt.xlabel('Epochs')\n",
        "plt.ylabel('Loss')\n",
        "plt.legend()\n",
        "plt.show()"
      ],
      "execution_count": 32,
      "outputs": [
        {
          "output_type": "display_data",
          "data": {
            "image/png": "[encoded data removed]",
            "text/plain": [
              "<Figure size 432x288 with 1 Axes>"
            ]
          },
          "metadata": {
            "tags": []
          }
        }
      ]
    },
    {
      "cell_type": "code",
      "metadata": {
        "id": "790AkDaTWuZU",
        "colab_type": "code",
        "colab": {}
      },
      "source": [
        "acc_values = history_dict['acc']\n",
        "test_acc_values = history_dict['val_acc']"
      ],
      "execution_count": 0,
      "outputs": []
    },
    {
      "cell_type": "code",
      "metadata": {
        "id": "7BkIfPQ4W39E",
        "colab_type": "code",
        "outputId": "147da6cc-9930-40dd-d901-4e605e49a870",
        "colab": {
          "base_uri": "https://localhost:8080/",
          "height": 295
        }
      },
      "source": [
        "plt.plot(epochs_range, acc_values, 'bo', label='Training accuracy')\n",
        "plt.plot(epochs_range, test_acc_values, 'ro', label='Test accuracy')\n",
        "plt.title('Training and test accuracy')\n",
        "plt.xlabel('Epochs')\n",
        "plt.ylabel('Accuracy')\n",
        "plt.legend()\n",
        "plt.show()"
      ],
      "execution_count": 34,
      "outputs": [
        {
          "output_type": "display_data",
          "data": {
            "image/png": "[encoded data removed]",
            "text/plain": [
              "<Figure size 432x288 with 1 Axes>"
            ]
          },
          "metadata": {
            "tags": []
          }
        }
      ]
    }
  ]
}
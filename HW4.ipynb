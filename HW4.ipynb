{
  "nbformat": 4,
  "nbformat_minor": 0,
  "metadata": {
    "colab": {
      "name": "HW4 ",
      "provenance": [],
      "include_colab_link": true
    },
    "kernelspec": {
      "name": "python3",
      "display_name": "Python 3"
    }
  },
  "cells": [
    {
      "cell_type": "markdown",
      "metadata": {
        "id": "view-in-github",
        "colab_type": "text"
      },
      "source": [
        "<a href=\"https://colab.research.google.com/github/fjoseph631/Machine-Learning/blob/master/HW4.ipynb\" target=\"_parent\"><img src=\"https://colab.research.google.com/assets/colab-badge.svg\" alt=\"Open In Colab\"/></a>"
      ]
    },
    {
      "cell_type": "markdown",
      "metadata": {
        "id": "shgSpx6buDv5",
        "colab_type": "text"
      },
      "source": [
        "##General Concepts\n"
      ]
    },
    {
      "cell_type": "markdown",
      "metadata": {
        "id": "ud-ABp3NuJWs",
        "colab_type": "text"
      },
      "source": [
        "### Artificial Integigence\n",
        "\n"
      ]
    },
    {
      "cell_type": "markdown",
      "metadata": {
        "id": "XUpdDGOvwbgJ",
        "colab_type": "text"
      },
      "source": [
        "- A branch of computer science dealing with the simulation of\n",
        "intelligent behavior in computers."
      ]
    },
    {
      "cell_type": "markdown",
      "metadata": {
        "id": "bQYheqdmm18Y",
        "colab_type": "text"
      },
      "source": [
        "#### Machine learning \n",
        "- A subset of Artificial Intelligence that  is dynamic and does not require human\n",
        " intervention to make changes.\n",
        "-  can modify itself when exposed to more data\n",
        "-Learning Types\n",
        "\n",
        "1.   Supervised Learning - where model data is labeled\n",
        "\n",
        "2.   Unsupervised Learning - where model data is not labeled\n",
        "\n"
      ]
    },
    {
      "cell_type": "markdown",
      "metadata": {
        "id": "qjHj3DDeoYkI",
        "colab_type": "text"
      },
      "source": [
        "##### Terminology\n",
        "- A label is the thing being predicted – the y variable in simple\n",
        "- A feature is an input variable — the x variable in simple\n",
        "linear regression.\n",
        "- Model Types\n",
        "  1. A regression model predicts continuous values\n",
        "  2. A classification model predicts discrete values.\n",
        "-Loss -  the penalty for a bad prediction. That is\n"
      ]
    },
    {
      "cell_type": "markdown",
      "metadata": {
        "id": "JLyyuHT4rM9U",
        "colab_type": "text"
      },
      "source": [
        "##### Gradient Descent\n",
        "-Learning Rate\n",
        "Hyperparameters are the knobs that programmers tweak in\n",
        "machine learning algorithms."
      ]
    },
    {
      "cell_type": "markdown",
      "metadata": {
        "id": "AKweNe36nYMc",
        "colab_type": "text"
      },
      "source": [
        "##### Deep Learning\n",
        "- Subset of machine learning"
      ]
    },
    {
      "cell_type": "markdown",
      "metadata": {
        "id": "yd27hQR81T1E",
        "colab_type": "text"
      },
      "source": [
        "###Major Libraries\n"
      ]
    },
    {
      "cell_type": "markdown",
      "metadata": {
        "id": "wIjrErkru_S-",
        "colab_type": "text"
      },
      "source": [
        "\n",
        "\n",
        "####Numpy\n",
        "-A library that uses an multidimenstional array at its based to perform tasks"
      ]
    },
    {
      "cell_type": "markdown",
      "metadata": {
        "id": "5GqoAHW-vBs9",
        "colab_type": "text"
      },
      "source": [
        "####Keras\n",
        "-Keras is a high-level neural networks API, written in Python and capable of running on top of TensorFlow, CNTK, or Theano."
      ]
    },
    {
      "cell_type": "markdown",
      "metadata": {
        "id": "cruVifYYvB4J",
        "colab_type": "text"
      },
      "source": [
        "####Tensor Flow\n",
        "-TensorFlow is a free and open-source software library for dataflow and differentiable programming across a range of tasks."
      ]
    },
    {
      "cell_type": "markdown",
      "metadata": {
        "id": "X3f9UxZUucFZ",
        "colab_type": "text"
      },
      "source": [
        "## Bulding a Model"
      ]
    },
    {
      "cell_type": "markdown",
      "metadata": {
        "id": "1qn8_G8bsTxF",
        "colab_type": "text"
      },
      "source": [
        "- The fundamental data structure in neural networks is the\n",
        "layer.\n",
        "- A layer is a data-processing module that takes as input one or\n",
        "more tensors and that outputs one or more tensors.\n",
        "- A deep-learning model is a directed, acyclic graph of layers.\n",
        "- Last layer is activation which is the output based on the input to the network"
      ]
    },
    {
      "cell_type": "code",
      "metadata": {
        "id": "lwc3a0OerwY1",
        "colab_type": "code",
        "colab": {}
      },
      "source": [
        "network = models.Sequential()\n",
        "network.add(layers.Dense(10, activation='softmax', input_shape=(787,)))"
      ],
      "execution_count": 0,
      "outputs": []
    },
    {
      "cell_type": "markdown",
      "metadata": {
        "id": "9aKAUBcJujVi",
        "colab_type": "text"
      },
      "source": [
        "## Compiling a Model"
      ]
    },
    {
      "cell_type": "markdown",
      "metadata": {
        "id": "TdsDj2GfvHfM",
        "colab_type": "text"
      },
      "source": [
        "### Learing rate\n",
        "- Step size to determine next point\n",
        "- Too large - will just overshoot destination\n",
        "- Too small - won't reach destination at all\n",
        "### Optimizer\n",
        "- Determines how the network will be updated based\n",
        "on the loss function\n",
        "### Loss\n",
        "- The quantity that will be minimized during training. It\n",
        "acts a measure of success.\n"
      ]
    },
    {
      "cell_type": "code",
      "metadata": {
        "id": "uMLt5P5Xz7AZ",
        "colab_type": "code",
        "colab": {}
      },
      "source": [
        "network.compile(optimizer='rmsprop',\n",
        "                loss='categorical_crossentropy',\n",
        "                metrics=['accuracy'])"
      ],
      "execution_count": 0,
      "outputs": []
    },
    {
      "cell_type": "markdown",
      "metadata": {
        "id": "-LT6PmYGutyv",
        "colab_type": "text"
      },
      "source": [
        "## Training a model"
      ]
    },
    {
      "cell_type": "code",
      "metadata": {
        "id": "H1TXFUNK0Fne",
        "colab_type": "code",
        "colab": {}
      },
      "source": [
        "epochs = 10\n",
        "history = network.fit(train_images, \n",
        "                      train_labels, \n",
        "                      epochs=epochs, \n",
        "                      batch_size=128, \n",
        "                      validation_data=(test_images, test_labels))"
      ],
      "execution_count": 0,
      "outputs": []
    },
    {
      "cell_type": "code",
      "metadata": {
        "id": "BW2m5y5F0MI2",
        "colab_type": "code",
        "outputId": "f6a3c376-bc1a-496c-cd04-9fcfe5c7d5da",
        "colab": {
          "base_uri": "https://localhost:8080/",
          "height": 413
        }
      },
      "source": [
        "from keras import models\n",
        "from keras import layers\n",
        "\n",
        "network = models.Sequential()\n",
        "network.add(layers.Dense(512, activation='relu', input_shape=(28 * 28,)))\n",
        "network.add(layers.Dense(10, activation='softmax'))\n",
        "network.summary()"
      ],
      "execution_count": 0,
      "outputs": [
        {
          "output_type": "stream",
          "text": [
            "Using TensorFlow backend.\n"
          ],
          "name": "stderr"
        },
        {
          "output_type": "display_data",
          "data": {
            "text/html": [
              "<p style=\"color: red;\">\n",
              "The default version of TensorFlow in Colab will soon switch to TensorFlow 2.x.<br>\n",
              "We recommend you <a href=\"https://www.tensorflow.org/guide/migrate\" target=\"_blank\">upgrade</a> now \n",
              "or ensure your notebook will continue to use TensorFlow 1.x via the <code>%tensorflow_version 1.x</code> magic:\n",
              "<a href=\"https://colab.research.google.com/notebooks/tensorflow_version.ipynb\" target=\"_blank\">more info</a>.</p>\n"
            ],
            "text/plain": [
              "<IPython.core.display.HTML object>"
            ]
          },
          "metadata": {
            "tags": []
          }
        },
        {
          "output_type": "stream",
          "text": [
            "WARNING:tensorflow:From /usr/local/lib/python3.6/dist-packages/keras/backend/tensorflow_backend.py:66: The name tf.get_default_graph is deprecated. Please use tf.compat.v1.get_default_graph instead.\n",
            "\n",
            "WARNING:tensorflow:From /usr/local/lib/python3.6/dist-packages/keras/backend/tensorflow_backend.py:541: The name tf.placeholder is deprecated. Please use tf.compat.v1.placeholder instead.\n",
            "\n",
            "WARNING:tensorflow:From /usr/local/lib/python3.6/dist-packages/keras/backend/tensorflow_backend.py:4432: The name tf.random_uniform is deprecated. Please use tf.random.uniform instead.\n",
            "\n",
            "Model: \"sequential_1\"\n",
            "_________________________________________________________________\n",
            "Layer (type)                 Output Shape              Param #   \n",
            "=================================================================\n",
            "dense_1 (Dense)              (None, 512)               401920    \n",
            "_________________________________________________________________\n",
            "dense_2 (Dense)              (None, 10)                5130      \n",
            "=================================================================\n",
            "Total params: 407,050\n",
            "Trainable params: 407,050\n",
            "Non-trainable params: 0\n",
            "_________________________________________________________________\n"
          ],
          "name": "stdout"
        }
      ]
    },
    {
      "cell_type": "markdown",
      "metadata": {
        "id": "EftDDeGyuzy3",
        "colab_type": "text"
      },
      "source": [
        "### Underfit \n",
        "    - bad model\n",
        "    - doesn't explain the data well enough\n",
        "    - add more layers\n"
      ]
    },
    {
      "cell_type": "markdown",
      "metadata": {
        "id": "K9iUab0Uu40n",
        "colab_type": "text"
      },
      "source": [
        "### Overfit\n",
        "  - fits training data too well - doesnt expand to testing data\n",
        "  - split data into three parts\n",
        "  - can be combatted by using dropout and data augmentation"
      ]
    },
    {
      "cell_type": "code",
      "metadata": {
        "id": "0eQfJNgz0ahz",
        "colab_type": "code",
        "colab": {}
      },
      "source": [
        "from keras.preprocessing.image import ImageDataGenerator\n",
        "\n",
        "datagen = ImageDataGenerator(\n",
        "    rotation_range=40,\n",
        "    width_shift_range=0.2,\n",
        "    height_shift_range=0.2,\n",
        "    shear_range=0.2,\n",
        "    zoom_range=0.2,\n",
        "    horizontal_flip=True,\n",
        "    fill_mode='nearest'\n",
        ")"
      ],
      "execution_count": 0,
      "outputs": []
    },
    {
      "cell_type": "code",
      "metadata": {
        "id": "5ox9i9YP0bi8",
        "colab_type": "code",
        "colab": {}
      },
      "source": [
        "model.add(layers.Dropout(0.5))"
      ],
      "execution_count": 0,
      "outputs": []
    },
    {
      "cell_type": "markdown",
      "metadata": {
        "id": "ojcjSdi9unwL",
        "colab_type": "text"
      },
      "source": [
        "## Finetuning a Pre-tuned Model\n",
        "\n",
        "\n"
      ]
    },
    {
      "cell_type": "markdown",
      "metadata": {
        "id": "pd1tmSi2u44G",
        "colab_type": "text"
      },
      "source": [
        "- Freeze the base to prevent qualty loss\n",
        "- Train some set of layers\n",
        "- Unfreeze rest of network\n",
        "- Train rest of model on data, hopefully improving accuracy"
      ]
    },
    {
      "cell_type": "code",
      "metadata": {
        "id": "HLbUh2Ph0uKy",
        "colab_type": "code",
        "colab": {}
      },
      "source": [
        "conv_base.trainable = True\n",
        "\n",
        "set_trainable = False\n",
        "for layer in conv_base.layers:\n",
        "  if layer.name == 'block5_conv1':\n",
        "    set_trainable = True\n",
        "  if set_trainable:\n",
        "    layer.trainable = True\n",
        "  else:\n",
        "    layer.trainable = False\n",
        "    # compile model\n",
        "\n",
        "model.compile(\n",
        "    loss='binary_crossentropy',\n",
        "    #\n",
        "    # choose a smaller learning rate\n",
        "    #\n",
        "    optimizer=optimizers.RMSprop(lr=1e-5), \n",
        "    metrics=['acc'])\n",
        "\n",
        "# train\n",
        "\n",
        "history = model.fit_generator(\n",
        "    train_generator,\n",
        "    steps_per_epoch=100,\n",
        "    epochs=100,\n",
        "    validation_data=validation_generator,\n",
        "    validation_steps=50)"
      ],
      "execution_count": 0,
      "outputs": []
    },
    {
      "cell_type": "markdown",
      "metadata": {
        "id": "cAERN59yuAxk",
        "colab_type": "text"
      },
      "source": [
        "## Convolutional Neural Networks\n"
      ]
    },
    {
      "cell_type": "markdown",
      "metadata": {
        "id": "WbQqk1i6u2FA",
        "colab_type": "text"
      },
      "source": [
        "-Primarily for image classification\n",
        "receives an input feature map: a\n",
        "three-dimensional matrix, where\n",
        "I the size of the first two dimensions corresponds to the length\n",
        "and width of the images in pixels and\n",
        "I the size of the third dimension is 3 (corresponding to the 3\n",
        "channels of a color image: red, green, and blue)."
      ]
    },
    {
      "cell_type": "markdown",
      "metadata": {
        "id": "Ij1YZGmhuwVE",
        "colab_type": "text"
      },
      "source": [
        "### Convolution\n"
      ]
    },
    {
      "cell_type": "markdown",
      "metadata": {
        "id": "3NfQNIguvTDD",
        "colab_type": "text"
      },
      "source": [
        "I A convolution extracts tiles of the input feature map, and\n",
        "applies filters to them to compute new features, producing an\n",
        "output feature map, or convolved feature (which may have a\n",
        "different size and depth than the input feature map).\n",
        "I Convolutions are defined by two parameters:\n",
        "I Size of the tiles that are extracted (typically 3x3 or 5x5 pixels).\n",
        "I The depth of the output feature map,"
      ]
    },
    {
      "cell_type": "markdown",
      "metadata": {
        "id": "HJnbglJdvMnk",
        "colab_type": "text"
      },
      "source": [
        "###Relu"
      ]
    },
    {
      "cell_type": "markdown",
      "metadata": {
        "id": "gZeWivgJve3y",
        "colab_type": "text"
      },
      "source": [
        "- CNN applies a Rectified\n",
        "Linear Unit (ReLU) transformation to the convolved feature,\n",
        "in order to introduce nonlinearity into the model.\n",
        "- The ReLU function,ReLU(x) = max(0, x),\n",
        "returns x for all values of x > 0, and returns 0 for all values of x<=0"
      ]
    },
    {
      "cell_type": "markdown",
      "metadata": {
        "id": "17IAk63uvl-V",
        "colab_type": "text"
      },
      "source": [
        "### Pooling"
      ]
    },
    {
      "cell_type": "markdown",
      "metadata": {
        "id": "hV0Yh_30vqIY",
        "colab_type": "text"
      },
      "source": [
        "- CNN downsamples the convolved feature reducing the number of dimensions of the feature map,\n",
        "while still preserving the most critical feature information.\n"
      ]
    },
    {
      "cell_type": "markdown",
      "metadata": {
        "id": "fkiwpOW1v5t7",
        "colab_type": "text"
      },
      "source": [
        "### Fully Connected Layers"
      ]
    },
    {
      "cell_type": "markdown",
      "metadata": {
        "id": "Yo20BqAav9DH",
        "colab_type": "text"
      },
      "source": [
        "- At the end of a convolutional neural network are one or more\n",
        "fully connected layers\n",
        "- Typically, the final fully connected layer contains a softmax\n",
        "activation function to predict"
      ]
    }
  ]
}